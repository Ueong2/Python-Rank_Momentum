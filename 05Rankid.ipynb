{
 "cells": [
  {
   "cell_type": "markdown",
   "metadata": {},
   "source": [
    "이 파일은 논문에서 요구하는 Rankid를 구하기 위한 파일입니다.\n",
    "\n",
    "엑셀파일 맨 끝 column에 count함수를 써서 Nd를 구한 후 진행해야 합니다.\n",
    "\n",
    "05for_rankid.xlsx"
   ]
  },
  {
   "cell_type": "code",
   "execution_count": 1,
   "metadata": {},
   "outputs": [],
   "source": [
    "import pandas as pd\n",
    "import math"
   ]
  },
  {
   "cell_type": "code",
   "execution_count": 21,
   "metadata": {},
   "outputs": [],
   "source": [
    "df = pd.read_excel('05for_rankid.xlsx',sheet_name = 'Sheet1')"
   ]
  },
  {
   "cell_type": "code",
   "execution_count": 22,
   "metadata": {},
   "outputs": [],
   "source": [
    "for i in range(1,len(df.columns)-1):                    # range(X,Y) X에 1을 대입하면 둘째 column부터 반영, Y에 columns의 개수 -1 대입\n",
    "    for j in range(13,len(df.index)):                   # range(Z,U) 반영하고 싶은 row가 Z 부터이면 Z-2 대입, U는 rows 개수 대입\n",
    "        k = len(df.columns)-1\n",
    "        Nd = df.loc[j, \"Unnamed: %d\" %k]                       \n",
    "        upside = df.loc[j,\"Unnamed: %d\" %i] - (Nd+1)/2          \n",
    "        downside = math.sqrt((Nd-1) * (Nd+1)/12)\n",
    "        if downside == 0:\n",
    "            next\n",
    "        else:\n",
    "            Rankid = upside / downside\n",
    "            df.loc[j,\"Unnamed: %d\" %i] = Rankid"
   ]
  },
  {
   "cell_type": "code",
   "execution_count": 23,
   "metadata": {},
   "outputs": [],
   "source": [
    "df.to_excel('05Real_rankid.xlsx')"
   ]
  },
  {
   "cell_type": "code",
   "execution_count": null,
   "metadata": {},
   "outputs": [],
   "source": []
  }
 ],
 "metadata": {
  "kernelspec": {
   "display_name": "Python 3",
   "language": "python",
   "name": "python3"
  },
  "language_info": {
   "codemirror_mode": {
    "name": "ipython",
    "version": 3
   },
   "file_extension": ".py",
   "mimetype": "text/x-python",
   "name": "python",
   "nbconvert_exporter": "python",
   "pygments_lexer": "ipython3",
   "version": "3.8.8"
  }
 },
 "nbformat": 4,
 "nbformat_minor": 4
}
