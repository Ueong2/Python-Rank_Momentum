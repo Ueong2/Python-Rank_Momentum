{
 "cells": [
  {
   "cell_type": "markdown",
   "metadata": {},
   "source": [
    "이 python 파일은 논문에서 요구하는 Rankit을 구하기 위한 파일입니다.\n",
    "\n",
    "앞 파일에서 설정한 t와 J값을 그대로 사용해야합니다.\n",
    "\n",
    "Real_month_rank_average.xlsx"
   ]
  },
  {
   "cell_type": "code",
   "execution_count": 6,
   "metadata": {},
   "outputs": [],
   "source": [
    "import numpy as np\n",
    "import pandas as pd"
   ]
  },
  {
   "cell_type": "code",
   "execution_count": 7,
   "metadata": {
    "scrolled": true
   },
   "outputs": [],
   "source": [
    "df = pd.read_excel('08for_rankit_J6t7.xlsx',sheet_name = 'Sheet1')\n",
    "head = pd.read_excel('08company_name1.xlsx',sheet_name = 'Sheet1')\n",
    "df2 = pd.DataFrame()"
   ]
  },
  {
   "cell_type": "code",
   "execution_count": 8,
   "metadata": {
    "scrolled": true
   },
   "outputs": [
    {
     "name": "stdout",
     "output_type": "stream",
     "text": [
      "관측하고자 하는 개월 수 J를 입력하세요 : 6\n"
     ]
    }
   ],
   "source": [
    "J = int(input('관측하고자 하는 개월 수 J를 입력하세요 : '))\n",
    "df1 = df.rolling(window=J).mean()"
   ]
  },
  {
   "cell_type": "code",
   "execution_count": 9,
   "metadata": {
    "scrolled": true
   },
   "outputs": [
    {
     "name": "stdout",
     "output_type": "stream",
     "text": [
      "시점 t를 입력하세요(t>J): 7\n"
     ]
    }
   ],
   "source": [
    "t = int(input('시점 t를 입력하세요(t>J): '))-1\n",
    "if t < J:\n",
    "    print('다시 입력하세요.')\n",
    "else: \n",
    "    for i in range(0,len(df1.columns)):\n",
    "        df2.loc[0,\"Unnamed: %d\" %i] = head.loc[0,\"Unnamed: %d\" %i]\n",
    "        df2.loc[1,\"Unnamed: 0\"] = df.loc[t, \"Unnamed: 0\"]\n",
    "        x = df1.loc[t-1, \"Unnamed: %d\" %i]\n",
    "        df2.loc[1,\"Unnamed: %d\" %i] = x\n",
    "\n",
    "df2.loc[0, \"Unnamed: 0\"] = 't'\n",
    "\n",
    "# NaN 데이터 처리를 위한 코드\n",
    "df3 = df2.fillna(0)\n",
    "for i in range(0,len(df3.columns)):\n",
    "    y = df3.loc[1,\"Unnamed: %d\" %i]\n",
    "    if y == 0:\n",
    "        df3=df3.drop(\"Unnamed: %d\" %i, axis = 1)"
   ]
  },
  {
   "cell_type": "code",
   "execution_count": 10,
   "metadata": {
    "scrolled": false
   },
   "outputs": [
    {
     "data": {
      "text/html": [
       "<div>\n",
       "<style scoped>\n",
       "    .dataframe tbody tr th:only-of-type {\n",
       "        vertical-align: middle;\n",
       "    }\n",
       "\n",
       "    .dataframe tbody tr th {\n",
       "        vertical-align: top;\n",
       "    }\n",
       "\n",
       "    .dataframe thead th {\n",
       "        text-align: right;\n",
       "    }\n",
       "</style>\n",
       "<table border=\"1\" class=\"dataframe\">\n",
       "  <thead>\n",
       "    <tr style=\"text-align: right;\">\n",
       "      <th></th>\n",
       "      <th>Unnamed: 0</th>\n",
       "      <th>Unnamed: 1</th>\n",
       "      <th>Unnamed: 2</th>\n",
       "      <th>Unnamed: 3</th>\n",
       "      <th>Unnamed: 4</th>\n",
       "      <th>Unnamed: 5</th>\n",
       "      <th>Unnamed: 6</th>\n",
       "      <th>Unnamed: 7</th>\n",
       "      <th>Unnamed: 8</th>\n",
       "      <th>Unnamed: 9</th>\n",
       "      <th>...</th>\n",
       "      <th>Unnamed: 1305</th>\n",
       "      <th>Unnamed: 1306</th>\n",
       "      <th>Unnamed: 1307</th>\n",
       "      <th>Unnamed: 1308</th>\n",
       "      <th>Unnamed: 1309</th>\n",
       "      <th>Unnamed: 1310</th>\n",
       "      <th>Unnamed: 1311</th>\n",
       "      <th>Unnamed: 1312</th>\n",
       "      <th>Unnamed: 1313</th>\n",
       "      <th>Unnamed: 1314</th>\n",
       "    </tr>\n",
       "  </thead>\n",
       "  <tbody>\n",
       "    <tr>\n",
       "      <th>0</th>\n",
       "      <td>t</td>\n",
       "      <td>삼성전자</td>\n",
       "      <td>삼성전자우</td>\n",
       "      <td>SK하이닉스</td>\n",
       "      <td>카카오</td>\n",
       "      <td>현대차</td>\n",
       "      <td>현대차우</td>\n",
       "      <td>현대차2우B</td>\n",
       "      <td>현대차3우B</td>\n",
       "      <td>삼성SDI</td>\n",
       "      <td>...</td>\n",
       "      <td>코아정보</td>\n",
       "      <td>엔플렉스</td>\n",
       "      <td>유니씨앤티</td>\n",
       "      <td>이루넷</td>\n",
       "      <td>아라온테크</td>\n",
       "      <td>모빌링크</td>\n",
       "      <td>대국</td>\n",
       "      <td>에코페트로시스템</td>\n",
       "      <td>옥션</td>\n",
       "      <td>에이엠에스</td>\n",
       "    </tr>\n",
       "    <tr>\n",
       "      <th>1</th>\n",
       "      <td>200101</td>\n",
       "      <td>0.0361734</td>\n",
       "      <td>0.0118556</td>\n",
       "      <td>0.216256</td>\n",
       "      <td>0.316627</td>\n",
       "      <td>-0.108234</td>\n",
       "      <td>-0.15062</td>\n",
       "      <td>-0.164896</td>\n",
       "      <td>-0.0927031</td>\n",
       "      <td>-0.123004</td>\n",
       "      <td>...</td>\n",
       "      <td>0.207112</td>\n",
       "      <td>0.35616</td>\n",
       "      <td>0.0567189</td>\n",
       "      <td>0.155784</td>\n",
       "      <td>0.308489</td>\n",
       "      <td>-0.00376617</td>\n",
       "      <td>0.207748</td>\n",
       "      <td>0.0889785</td>\n",
       "      <td>0.118185</td>\n",
       "      <td>0.0777791</td>\n",
       "    </tr>\n",
       "  </tbody>\n",
       "</table>\n",
       "<p>2 rows × 1315 columns</p>\n",
       "</div>"
      ],
      "text/plain": [
       "  Unnamed: 0 Unnamed: 1 Unnamed: 2 Unnamed: 3 Unnamed: 4 Unnamed: 5  \\\n",
       "0          t       삼성전자      삼성전자우     SK하이닉스        카카오        현대차   \n",
       "1     200101  0.0361734  0.0118556   0.216256   0.316627  -0.108234   \n",
       "\n",
       "  Unnamed: 6 Unnamed: 7 Unnamed: 8 Unnamed: 9  ... Unnamed: 1305  \\\n",
       "0       현대차우     현대차2우B     현대차3우B      삼성SDI  ...          코아정보   \n",
       "1   -0.15062  -0.164896 -0.0927031  -0.123004  ...      0.207112   \n",
       "\n",
       "  Unnamed: 1306 Unnamed: 1307 Unnamed: 1308 Unnamed: 1309 Unnamed: 1310  \\\n",
       "0          엔플렉스         유니씨앤티           이루넷         아라온테크          모빌링크   \n",
       "1       0.35616     0.0567189      0.155784      0.308489   -0.00376617   \n",
       "\n",
       "  Unnamed: 1311 Unnamed: 1312 Unnamed: 1313 Unnamed: 1314  \n",
       "0            대국      에코페트로시스템            옥션         에이엠에스  \n",
       "1      0.207748     0.0889785      0.118185     0.0777791  \n",
       "\n",
       "[2 rows x 1315 columns]"
      ]
     },
     "execution_count": 10,
     "metadata": {},
     "output_type": "execute_result"
    }
   ],
   "source": [
    "df3"
   ]
  },
  {
   "cell_type": "code",
   "execution_count": 12,
   "metadata": {},
   "outputs": [],
   "source": [
    "df3.to_excel('08Real_rankit_J%dt%d.xlsx' %(J,t+1))"
   ]
  },
  {
   "cell_type": "code",
   "execution_count": null,
   "metadata": {},
   "outputs": [],
   "source": []
  }
 ],
 "metadata": {
  "kernelspec": {
   "display_name": "Python 3 (ipykernel)",
   "language": "python",
   "name": "python3"
  },
  "language_info": {
   "codemirror_mode": {
    "name": "ipython",
    "version": 3
   },
   "file_extension": ".py",
   "mimetype": "text/x-python",
   "name": "python",
   "nbconvert_exporter": "python",
   "pygments_lexer": "ipython3",
   "version": "3.8.8"
  }
 },
 "nbformat": 4,
 "nbformat_minor": 4
}
