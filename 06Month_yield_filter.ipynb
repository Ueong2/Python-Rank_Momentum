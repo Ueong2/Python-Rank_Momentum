{
 "cells": [
  {
   "cell_type": "markdown",
   "metadata": {},
   "source": [
    "관측 개월 수 J보다 부족한 종목을 제거하기 위한 프로그램입니다.\n",
    "\n",
    "메모장과 서식을 활용해 날짜 데이터를 YYYYMM으로 바꿔야합니다.\n",
    "\n",
    "raw_company_name.xlsx를 통해 0 raw 에 회사명을 넣어야합니다. \n",
    "\n",
    "06for_month_yield_filter.xlsx\n",
    "\n",
    "Month_Jt_changer.xlsx"
   ]
  },
  {
   "cell_type": "code",
   "execution_count": 1,
   "metadata": {},
   "outputs": [],
   "source": [
    "import numpy as np\n",
    "import pandas as pd"
   ]
  },
  {
   "cell_type": "code",
   "execution_count": 2,
   "metadata": {
    "scrolled": true
   },
   "outputs": [],
   "source": [
    "df = pd.read_excel('Month_Jt_changer.xlsx',sheet_name = 'Sheet1')\n",
    "df2 = pd.read_excel('06for_month_yield_filter.xlsx',sheet_name = 'Sheet1')"
   ]
  },
  {
   "cell_type": "code",
   "execution_count": 9,
   "metadata": {
    "scrolled": true
   },
   "outputs": [
    {
     "name": "stdout",
     "output_type": "stream",
     "text": [
      "관측하고자 하는 개월 수 J를 입력하세요 : 6\n",
      "시점 t를 입력하세요(t>J) : 7\n"
     ]
    }
   ],
   "source": [
    "J = int(input('관측하고자 하는 개월 수 J를 입력하세요 : '))\n",
    "t = int(input('시점 t를 입력하세요(t>J) : '))\n",
    "if t <= J:\n",
    "    print('다시 입력하세요.')"
   ]
  },
  {
   "cell_type": "code",
   "execution_count": 11,
   "metadata": {},
   "outputs": [
    {
     "name": "stdout",
     "output_type": "stream",
     "text": [
      "200007\n"
     ]
    }
   ],
   "source": [
    "a = df.loc[t-J-1, 'Unnamed: 1']\n",
    "print(a)"
   ]
  },
  {
   "cell_type": "code",
   "execution_count": 12,
   "metadata": {},
   "outputs": [],
   "source": [
    "i = 1\n",
    "k = 1\n",
    "df3 = df2.fillna(0)\n",
    "while df3.loc[i, 'Unnamed: 0'] != a:\n",
    "    i = i+1\n",
    "    k = i\n",
    "for j in range(0, len(df3.columns)):\n",
    "    if df3.loc[k, 'Unnamed: %d' %j] == 0:\n",
    "        df3=df3.drop(\"Unnamed: %d\" %j, axis = 1)"
   ]
  },
  {
   "cell_type": "code",
   "execution_count": 15,
   "metadata": {},
   "outputs": [],
   "source": [
    "df4 = df3.head(1)"
   ]
  },
  {
   "cell_type": "code",
   "execution_count": 18,
   "metadata": {},
   "outputs": [],
   "source": [
    "df3.to_excel('06Real_month_yield_filter_J%dt%d.xlsx' %(J,t))\n",
    "df4.to_excel('company_name1.xlsx')"
   ]
  },
  {
   "cell_type": "code",
   "execution_count": null,
   "metadata": {},
   "outputs": [],
   "source": []
  }
 ],
 "metadata": {
  "kernelspec": {
   "display_name": "Python 3 (ipykernel)",
   "language": "python",
   "name": "python3"
  },
  "language_info": {
   "codemirror_mode": {
    "name": "ipython",
    "version": 3
   },
   "file_extension": ".py",
   "mimetype": "text/x-python",
   "name": "python",
   "nbconvert_exporter": "python",
   "pygments_lexer": "ipython3",
   "version": "3.8.8"
  }
 },
 "nbformat": 4,
 "nbformat_minor": 4
}
