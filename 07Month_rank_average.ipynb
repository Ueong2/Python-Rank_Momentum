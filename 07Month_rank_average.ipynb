{
 "cells": [
  {
   "cell_type": "markdown",
   "metadata": {},
   "source": [
    "이 python 파일은 논문에서 요구하는 Rankit을 구하기 위한 월평균 계산 파일입니다.\n",
    "\n",
    "앞 파일에서 설정한 t와 J값을 그대로 사용해야합니다.\n",
    "\n",
    "for_month_rank_average.xlsx"
   ]
  },
  {
   "cell_type": "code",
   "execution_count": 10,
   "metadata": {},
   "outputs": [],
   "source": [
    "import numpy as np\n",
    "import pandas as pd"
   ]
  },
  {
   "cell_type": "code",
   "execution_count": 11,
   "metadata": {
    "scrolled": true
   },
   "outputs": [],
   "source": [
    "df = pd.read_excel('07for_month_rank_average_J6t7.xlsx',sheet_name = 'Sheet1')"
   ]
  },
  {
   "cell_type": "code",
   "execution_count": 12,
   "metadata": {
    "scrolled": true
   },
   "outputs": [],
   "source": [
    "df = df.groupby(['Unnamed: 0']).mean()"
   ]
  },
  {
   "cell_type": "code",
   "execution_count": 13,
   "metadata": {},
   "outputs": [
    {
     "name": "stdout",
     "output_type": "stream",
     "text": [
      "관측하고자 하는 개월 수 J를 입력하세요 : 6\n",
      "시점 t를 입력하세요(t>J) : 7\n"
     ]
    }
   ],
   "source": [
    "J = int(input('관측하고자 하는 개월 수 J를 입력하세요 : '))\n",
    "t = int(input('시점 t를 입력하세요(t>J) : '))\n",
    "if t <= J:\n",
    "    print('다시 입력하세요.')"
   ]
  },
  {
   "cell_type": "code",
   "execution_count": 14,
   "metadata": {},
   "outputs": [],
   "source": [
    "df.to_excel('07Real_month_rank_average_J%dt%d.xlsx' %(J,t))"
   ]
  },
  {
   "cell_type": "code",
   "execution_count": null,
   "metadata": {},
   "outputs": [],
   "source": []
  }
 ],
 "metadata": {
  "kernelspec": {
   "display_name": "Python 3 (ipykernel)",
   "language": "python",
   "name": "python3"
  },
  "language_info": {
   "codemirror_mode": {
    "name": "ipython",
    "version": 3
   },
   "file_extension": ".py",
   "mimetype": "text/x-python",
   "name": "python",
   "nbconvert_exporter": "python",
   "pygments_lexer": "ipython3",
   "version": "3.8.8"
  }
 },
 "nbformat": 4,
 "nbformat_minor": 4
}
