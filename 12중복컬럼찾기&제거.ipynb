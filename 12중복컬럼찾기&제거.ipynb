{
 "cells": [
  {
   "cell_type": "code",
   "execution_count": 1,
   "id": "9f9bbd9e",
   "metadata": {},
   "outputs": [],
   "source": [
    "import numpy as np\n",
    "import pandas as pd"
   ]
  },
  {
   "cell_type": "code",
   "execution_count": 2,
   "id": "5f984633",
   "metadata": {},
   "outputs": [],
   "source": [
    "df = pd.read_excel('raw_company_name.xlsx',sheet_name = 'Sheet1')"
   ]
  },
  {
   "cell_type": "code",
   "execution_count": 3,
   "id": "04674811",
   "metadata": {},
   "outputs": [
    {
     "data": {
      "text/html": [
       "<div>\n",
       "<style scoped>\n",
       "    .dataframe tbody tr th:only-of-type {\n",
       "        vertical-align: middle;\n",
       "    }\n",
       "\n",
       "    .dataframe tbody tr th {\n",
       "        vertical-align: top;\n",
       "    }\n",
       "\n",
       "    .dataframe thead th {\n",
       "        text-align: right;\n",
       "    }\n",
       "</style>\n",
       "<table border=\"1\" class=\"dataframe\">\n",
       "  <thead>\n",
       "    <tr style=\"text-align: right;\">\n",
       "      <th></th>\n",
       "      <th>Unnamed: 0</th>\n",
       "      <th>Unnamed: 1</th>\n",
       "      <th>Unnamed: 2</th>\n",
       "      <th>Unnamed: 3</th>\n",
       "      <th>Unnamed: 4</th>\n",
       "      <th>Unnamed: 5</th>\n",
       "      <th>Unnamed: 6</th>\n",
       "      <th>Unnamed: 7</th>\n",
       "      <th>Unnamed: 8</th>\n",
       "      <th>Unnamed: 9</th>\n",
       "      <th>...</th>\n",
       "      <th>Unnamed: 3355</th>\n",
       "      <th>Unnamed: 3356</th>\n",
       "      <th>Unnamed: 3357</th>\n",
       "      <th>Unnamed: 3358</th>\n",
       "      <th>Unnamed: 3359</th>\n",
       "      <th>Unnamed: 3360</th>\n",
       "      <th>Unnamed: 3361</th>\n",
       "      <th>Unnamed: 3362</th>\n",
       "      <th>Unnamed: 3363</th>\n",
       "      <th>Unnamed: 3364</th>\n",
       "    </tr>\n",
       "  </thead>\n",
       "  <tbody>\n",
       "    <tr>\n",
       "      <th>0</th>\n",
       "      <td>Symbol Name</td>\n",
       "      <td>삼성전자</td>\n",
       "      <td>삼성전자우</td>\n",
       "      <td>SK하이닉스</td>\n",
       "      <td>LG화학</td>\n",
       "      <td>LG화학우</td>\n",
       "      <td>NAVER</td>\n",
       "      <td>삼성바이오로직스</td>\n",
       "      <td>카카오</td>\n",
       "      <td>현대차</td>\n",
       "      <td>...</td>\n",
       "      <td>중국원양자원</td>\n",
       "      <td>중국식품포장</td>\n",
       "      <td>차이나하오란</td>\n",
       "      <td>웨이포트</td>\n",
       "      <td>성융광전투자</td>\n",
       "      <td>완리</td>\n",
       "      <td>평산차업 KDR</td>\n",
       "      <td>네프로아이티</td>\n",
       "      <td>중국고섬</td>\n",
       "      <td>SBI모기지</td>\n",
       "    </tr>\n",
       "  </tbody>\n",
       "</table>\n",
       "<p>1 rows × 3365 columns</p>\n",
       "</div>"
      ],
      "text/plain": [
       "    Unnamed: 0 Unnamed: 1 Unnamed: 2 Unnamed: 3 Unnamed: 4 Unnamed: 5  \\\n",
       "0  Symbol Name       삼성전자      삼성전자우     SK하이닉스       LG화학      LG화학우   \n",
       "\n",
       "  Unnamed: 6 Unnamed: 7 Unnamed: 8 Unnamed: 9  ... Unnamed: 3355  \\\n",
       "0      NAVER   삼성바이오로직스        카카오        현대차  ...        중국원양자원   \n",
       "\n",
       "  Unnamed: 3356 Unnamed: 3357 Unnamed: 3358 Unnamed: 3359 Unnamed: 3360  \\\n",
       "0        중국식품포장        차이나하오란          웨이포트        성융광전투자            완리   \n",
       "\n",
       "  Unnamed: 3361 Unnamed: 3362 Unnamed: 3363 Unnamed: 3364  \n",
       "0      평산차업 KDR        네프로아이티          중국고섬        SBI모기지  \n",
       "\n",
       "[1 rows x 3365 columns]"
      ]
     },
     "execution_count": 3,
     "metadata": {},
     "output_type": "execute_result"
    }
   ],
   "source": [
    "df"
   ]
  },
  {
   "cell_type": "code",
   "execution_count": 4,
   "id": "b7412cd1",
   "metadata": {},
   "outputs": [
    {
     "data": {
      "text/html": [
       "<div>\n",
       "<style scoped>\n",
       "    .dataframe tbody tr th:only-of-type {\n",
       "        vertical-align: middle;\n",
       "    }\n",
       "\n",
       "    .dataframe tbody tr th {\n",
       "        vertical-align: top;\n",
       "    }\n",
       "\n",
       "    .dataframe thead th {\n",
       "        text-align: right;\n",
       "    }\n",
       "</style>\n",
       "<table border=\"1\" class=\"dataframe\">\n",
       "  <thead>\n",
       "    <tr style=\"text-align: right;\">\n",
       "      <th></th>\n",
       "      <th>Unnamed: 0</th>\n",
       "      <th>Unnamed: 1</th>\n",
       "      <th>Unnamed: 2</th>\n",
       "      <th>Unnamed: 3</th>\n",
       "      <th>Unnamed: 4</th>\n",
       "      <th>Unnamed: 5</th>\n",
       "      <th>Unnamed: 6</th>\n",
       "      <th>Unnamed: 7</th>\n",
       "      <th>Unnamed: 8</th>\n",
       "      <th>Unnamed: 9</th>\n",
       "      <th>...</th>\n",
       "      <th>Unnamed: 3355</th>\n",
       "      <th>Unnamed: 3356</th>\n",
       "      <th>Unnamed: 3357</th>\n",
       "      <th>Unnamed: 3358</th>\n",
       "      <th>Unnamed: 3359</th>\n",
       "      <th>Unnamed: 3360</th>\n",
       "      <th>Unnamed: 3361</th>\n",
       "      <th>Unnamed: 3362</th>\n",
       "      <th>Unnamed: 3363</th>\n",
       "      <th>Unnamed: 3364</th>\n",
       "    </tr>\n",
       "  </thead>\n",
       "  <tbody>\n",
       "    <tr>\n",
       "      <th>0</th>\n",
       "      <td>Symbol Name</td>\n",
       "      <td>삼성전자</td>\n",
       "      <td>삼성전자우</td>\n",
       "      <td>SK하이닉스</td>\n",
       "      <td>LG화학</td>\n",
       "      <td>LG화학우</td>\n",
       "      <td>NAVER</td>\n",
       "      <td>삼성바이오로직스</td>\n",
       "      <td>카카오</td>\n",
       "      <td>현대차</td>\n",
       "      <td>...</td>\n",
       "      <td>중국원양자원</td>\n",
       "      <td>중국식품포장</td>\n",
       "      <td>차이나하오란</td>\n",
       "      <td>웨이포트</td>\n",
       "      <td>성융광전투자</td>\n",
       "      <td>완리</td>\n",
       "      <td>평산차업 KDR</td>\n",
       "      <td>네프로아이티</td>\n",
       "      <td>중국고섬</td>\n",
       "      <td>SBI모기지</td>\n",
       "    </tr>\n",
       "  </tbody>\n",
       "</table>\n",
       "<p>1 rows × 3349 columns</p>\n",
       "</div>"
      ],
      "text/plain": [
       "    Unnamed: 0 Unnamed: 1 Unnamed: 2 Unnamed: 3 Unnamed: 4 Unnamed: 5  \\\n",
       "0  Symbol Name       삼성전자      삼성전자우     SK하이닉스       LG화학      LG화학우   \n",
       "\n",
       "  Unnamed: 6 Unnamed: 7 Unnamed: 8 Unnamed: 9  ... Unnamed: 3355  \\\n",
       "0      NAVER   삼성바이오로직스        카카오        현대차  ...        중국원양자원   \n",
       "\n",
       "  Unnamed: 3356 Unnamed: 3357 Unnamed: 3358 Unnamed: 3359 Unnamed: 3360  \\\n",
       "0        중국식품포장        차이나하오란          웨이포트        성융광전투자            완리   \n",
       "\n",
       "  Unnamed: 3361 Unnamed: 3362 Unnamed: 3363 Unnamed: 3364  \n",
       "0      평산차업 KDR        네프로아이티          중국고섬        SBI모기지  \n",
       "\n",
       "[1 rows x 3349 columns]"
      ]
     },
     "execution_count": 4,
     "metadata": {},
     "output_type": "execute_result"
    }
   ],
   "source": [
    "df.loc[:,~df.T.duplicated()]\n",
    "    \n"
   ]
  },
  {
   "cell_type": "code",
   "execution_count": 5,
   "id": "c94ce8cf",
   "metadata": {},
   "outputs": [
    {
     "name": "stdout",
     "output_type": "stream",
     "text": [
      "삼성물산\n",
      "SK\n",
      "SK우\n",
      "고려시멘트\n",
      "하나은행\n",
      "두산건설\n",
      "알루코\n",
      "핸디소프트\n",
      "미래에셋증권\n",
      "아이티센\n",
      "국민은행\n",
      "풀무원\n",
      "신성이엔지\n",
      "인터파크\n",
      "경남은행\n",
      "광주은행\n"
     ]
    }
   ],
   "source": [
    "#중복되는 컬럼 찾기\n",
    "for i in range(0,len(df.columns)):\n",
    "    if df.T.duplicated()[i] == True:\n",
    "        print(df.loc[0,\"Unnamed: %d\" %i])"
   ]
  },
  {
   "cell_type": "code",
   "execution_count": 6,
   "id": "50f4b30b",
   "metadata": {},
   "outputs": [
    {
     "data": {
      "text/plain": [
       "False"
      ]
     },
     "execution_count": 6,
     "metadata": {},
     "output_type": "execute_result"
    }
   ],
   "source": [
    "df.T.duplicated()[1]"
   ]
  },
  {
   "cell_type": "code",
   "execution_count": 7,
   "id": "6d3d6c20",
   "metadata": {},
   "outputs": [],
   "source": [
    "#중복되는 컬럼 제거\n",
    "df1 = df.loc[:,~df.T.duplicated()]"
   ]
  },
  {
   "cell_type": "code",
   "execution_count": 8,
   "id": "d285d7e1",
   "metadata": {},
   "outputs": [],
   "source": [
    "for i in range(0,len(df1.columns)):\n",
    "    if df1.T.duplicated()[i] == True:\n",
    "        print(df1.loc[0,\"Unnamed: %d\" %i])"
   ]
  },
  {
   "cell_type": "code",
   "execution_count": null,
   "id": "ecf92ae6",
   "metadata": {},
   "outputs": [],
   "source": []
  }
 ],
 "metadata": {
  "kernelspec": {
   "display_name": "Python 3 (ipykernel)",
   "language": "python",
   "name": "python3"
  },
  "language_info": {
   "codemirror_mode": {
    "name": "ipython",
    "version": 3
   },
   "file_extension": ".py",
   "mimetype": "text/x-python",
   "name": "python",
   "nbconvert_exporter": "python",
   "pygments_lexer": "ipython3",
   "version": "3.8.8"
  }
 },
 "nbformat": 4,
 "nbformat_minor": 5
}
